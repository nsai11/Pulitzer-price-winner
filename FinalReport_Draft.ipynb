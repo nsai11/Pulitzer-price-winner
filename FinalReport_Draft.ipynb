{
  "nbformat": 4,
  "nbformat_minor": 0,
  "metadata": {
    "colab": {
      "name": "FinalReport_Draft.ipynb",
      "provenance": [],
      "collapsed_sections": []
    },
    "kernelspec": {
      "name": "python3",
      "display_name": "Python 3"
    },
    "language_info": {
      "name": "python"
    }
  },
  "cells": [
    {
      "cell_type": "markdown",
      "metadata": {
        "id": "IQf1y1Xm1_iN"
      },
      "source": [
        "# How to Win the Pulitzer Prize\n",
        "\n",
        "*Group 20 (Error 404 Not Found) : Apoorva, Di Wang, Jingru Liu, \n",
        "Peiqing Zuo, Sai Srikar, Sreyas* \n",
        "\n",
        "## 1. Introduction\n",
        "The Pulitzer Prize is regarded as the highest national honor in print journalism, literary achievement, and musical composition. Established in 1917 from funds endowed by journalist and newspaper publisher Joseph Pulitzer, prizes are awarded yearly in twenty-one categories.\n",
        "\n",
        "Criteria to Win the Pulitzer Prize :\n",
        "- Only U.S. citizens are eligible to apply for the Prizes in Books, Drama, and Music (except for the History category, in which the book must be a history of the United States, but the author may be of any nationality).\n",
        "- There are no set criteria for the judging of the Prizes. The definitions of each category are the only guidelines.<br>\n",
        "\n",
        "Ref: https://www.pulitzer.org/page/frequently-asked-questions\n",
        "\n",
        "The main goal of the project is to reveal the relationship between the words a book use and its possibility to win the Pulitzer Prize. Also, there are some other characteristics such as the publisher of the book and author feature that influence the prize result to some extent.\n",
        "\n",
        "**Questions of Interest <br>\n",
        "● Can we show a correlation between the words used in a book and winning a Pulitzer Prize winning book ? <br>\n",
        "● Can we quantify different words and associate value to them? <br>\n",
        "● Does the publisher matter for the award winnning author ? <br>\n",
        "● Are we able to identify a pattern based on our findings and predict it ? <br>\n",
        "● Are we able to reject our hypothesis i.e is the prize winner not based on quantitative parameters ? <br>**\n",
        "\n",
        "The questions of interest are really interesting because we are able to indentify patterns for the winners and are not able to reject the hypothesis . So, we might be be able to game the system of winning the Pulitzer Prize based on the observations and analysis in the notebook.\n",
        "\n",
        "We create two tables for the whole analysis, one is the *Author Book* table, another is the *Content* table containing all the meaningful words extracted from books we downloaded.\n",
        "\n",
        "Right now the *Author-Book Information* table has 9 columns, 40 rows of data crawled from Wikipedia. And *Content* table has 31 columns with around 600,000+ rows of English word data when finishing extraction from all the books from both winners and losers.\n",
        "\n",
        "## 2. Choice for Heavier Grading on Data Processing or Data Analysis\n",
        "Our project focus more on the collection and processing of data than data analysis. Since the modification of words and display of books information are the main part of our project.\n",
        "\n",
        "\n",
        "\n",
        "\n",
        "\n",
        "## 3. Data Processing\n",
        "We separate out processing into two route. One is the creation and display of the winner books information table. Another is the establishment and operation of the exact word content of books dataset.\n",
        "### 3.1 Creation of Author-Book Table\n",
        "Data for this table was collected from webscrapping of Wikipedia, which includes information of all winner books and book authors on aspects of year, book genre, auther origin, author age and author gender.\n",
        "\n",
        "#### 3.1.1 Scrap and Make the Author-Book table\n",
        "The data was scrapped of the link from wikipedia:<br>**\"https://en.wikipedia.org/wiki/Pulitzer_Prize_for_Fiction\"** .<br>\n",
        "\n",
        "The data was cleaned by using string manipulation and non-essential data was removed from the data that was scraped. <br>\n",
        "\n",
        "The to complete the data we needed the gender of the authors as well , to compute that we used **Genderize** package to automatically compute the gender of the winning author from their first name which is 99 % accurate in it's prediction and found that the prize was won by more men than women .<br>\n",
        "\n",
        "Bins were also created to put the age of the winnning in a particular author in a particular age category which shows a normal distribution with the median lying around **50-55** years. <br>\n",
        "\n",
        "There were few **challenges** which happened during the processing  : <br>\n",
        "<li> A suitable source of data needed to be found, after a lot of search Wikipedia was selected.<br>\n",
        "<li> The Wikipedia page had two tables we needed to select the appropriate table for our processing. <br>\n",
        "<li> The data was not clean appropriate cleaning needed to be done and columns need to be added so that visualization could even be possible on the data. <br>\n",
        "<li> There was no gender for the authors , we needed to find a appropriate source to enter the gender for the authors rather than manually entering them.<br>\n",
        "\n",
        "The code of generating book-author table is shown as follow which is extracted:"
      ]
    },
    {
      "cell_type": "code",
      "metadata": {
        "colab": {
          "base_uri": "https://localhost:8080/"
        },
        "id": "xrrI8tsMfzX6",
        "outputId": "d0af8c14-dbf3-47a2-9adc-95d8e66c1470"
      },
      "source": [
        "! pip install genderize"
      ],
      "execution_count": null,
      "outputs": [
        {
          "output_type": "stream",
          "name": "stdout",
          "text": [
            "Requirement already satisfied: genderize in /usr/local/lib/python3.7/dist-packages (0.3.1)\n",
            "Requirement already satisfied: requests>=1.0.0 in /usr/local/lib/python3.7/dist-packages (from genderize) (2.23.0)\n",
            "Requirement already satisfied: idna<3,>=2.5 in /usr/local/lib/python3.7/dist-packages (from requests>=1.0.0->genderize) (2.10)\n",
            "Requirement already satisfied: urllib3!=1.25.0,!=1.25.1,<1.26,>=1.21.1 in /usr/local/lib/python3.7/dist-packages (from requests>=1.0.0->genderize) (1.24.3)\n",
            "Requirement already satisfied: chardet<4,>=3.0.2 in /usr/local/lib/python3.7/dist-packages (from requests>=1.0.0->genderize) (3.0.4)\n",
            "Requirement already satisfied: certifi>=2017.4.17 in /usr/local/lib/python3.7/dist-packages (from requests>=1.0.0->genderize) (2021.10.8)\n"
          ]
        }
      ]
    },
    {
      "cell_type": "code",
      "metadata": {
        "colab": {
          "base_uri": "https://localhost:8080/",
          "height": 310
        },
        "id": "_tZ4E4_XmZqZ",
        "outputId": "dce78e3c-5c64-420a-d086-c209097790e4"
      },
      "source": [
        "from bs4 import BeautifulSoup\n",
        "import requests\n",
        "import pandas as pd\n",
        "import numpy as np\n",
        "from genderize import Genderize\n",
        "import matplotlib.pyplot as plt\n",
        "import seaborn as sns\n",
        "\n",
        "# trying to scrape data from wikipedia to get the table for winners and finalists \n",
        "# Questions of interest is there any particular publishing house that has most pulitzer prize winners \n",
        "# Awards were not given in 2012 hence the record was dropped  \n",
        "\n",
        "wikiurl=\"https://en.wikipedia.org/wiki/Pulitzer_Prize_for_Fiction\"\n",
        "table_class=\"wikitable sortable jquery-tablesorter\" # class of the wikipedia table \n",
        "response=requests.get(wikiurl)\n",
        "# parse data from the html into a beautifulsoup object\n",
        "soup = BeautifulSoup(response.text, 'html.parser')\n",
        "pulitzer_prize_for_fiction =soup.find_all('table',{'class':\"wikitable\"})[1]\n",
        "df=pd.read_html(str(pulitzer_prize_for_fiction))\n",
        "# convert list to dataframe\n",
        "df=pd.DataFrame(df[0]) # extracting the table from the list \n",
        "df['Year_Copy'] = df['Year']\n",
        "df_winners_finalists = df.set_index('Year').sort_values(by='Year', ascending =False)\n",
        "#  removing non-essential columns \n",
        "del(df_winners_finalists['Winner']) \n",
        "del(df_winners_finalists['Finalists'])                         \n",
        "df_winners_finalists.rename({'Work.1':'Publisher','Winner.1':'Winner'},axis=1,inplace=True) # renaming the columns to appropriate names \n",
        "# for the below split removing the brackets to clean the data and extracting based on the split \n",
        "df_winners_finalists['Work'] = df_winners_finalists['Work'].str.split('[').str[0]\n",
        "df_winners_finalists[\"Author's origin\"] = df_winners_finalists[\"Author's origin\"].str.split('(').str[0]\n",
        "df_winners_finalists['Publisher']  = df_winners_finalists['Publisher'].str.split('(').str[0]\n",
        "df_winners_finalists['Birth Year'] = df_winners_finalists['Winner'].str.split('(').str[1]\n",
        "df_winners_finalists['Winner'] = df_winners_finalists['Winner'].str.split('(').str[0]\n",
        "df_winners_finalists['Birth Year'] = df_winners_finalists['Birth Year'].str.extract('(?P<year>\\d\\d\\d\\d)',expand=False) # extracting only the birth year\n",
        "df_winners_finalists.dropna(axis=0, how='any',inplace=True)\n",
        "df.head()"
      ],
      "execution_count": null,
      "outputs": [
        {
          "output_type": "execute_result",
          "data": {
            "text/html": [
              "<div>\n",
              "<style scoped>\n",
              "    .dataframe tbody tr th:only-of-type {\n",
              "        vertical-align: middle;\n",
              "    }\n",
              "\n",
              "    .dataframe tbody tr th {\n",
              "        vertical-align: top;\n",
              "    }\n",
              "\n",
              "    .dataframe thead th {\n",
              "        text-align: right;\n",
              "    }\n",
              "</style>\n",
              "<table border=\"1\" class=\"dataframe\">\n",
              "  <thead>\n",
              "    <tr style=\"text-align: right;\">\n",
              "      <th></th>\n",
              "      <th>Year</th>\n",
              "      <th>Winner</th>\n",
              "      <th>Winner.1</th>\n",
              "      <th>Work</th>\n",
              "      <th>Work.1</th>\n",
              "      <th>Genre(s)</th>\n",
              "      <th>Author's origin</th>\n",
              "      <th>Finalists</th>\n",
              "      <th>Year_Copy</th>\n",
              "    </tr>\n",
              "  </thead>\n",
              "  <tbody>\n",
              "    <tr>\n",
              "      <th>0</th>\n",
              "      <td>1980</td>\n",
              "      <td>NaN</td>\n",
              "      <td>Norman Mailer (1923–2007)</td>\n",
              "      <td>The Executioner's Song</td>\n",
              "      <td>Little, Brown (1979)</td>\n",
              "      <td>True crime novel</td>\n",
              "      <td>New Jersey</td>\n",
              "      <td>William Wharton, BirdyPhilip Roth, The Ghost W...</td>\n",
              "      <td>1980</td>\n",
              "    </tr>\n",
              "    <tr>\n",
              "      <th>1</th>\n",
              "      <td>1981</td>\n",
              "      <td>NaN</td>\n",
              "      <td>John Kennedy Toole (1937–1969)</td>\n",
              "      <td>A Confederacy of Dunces (posthumous win)</td>\n",
              "      <td>Louisiana State University Press (1980)</td>\n",
              "      <td>Picaresque novel</td>\n",
              "      <td>Louisiana</td>\n",
              "      <td>Frederick Buechner, GodricWilliam Maxwell, So ...</td>\n",
              "      <td>1981</td>\n",
              "    </tr>\n",
              "    <tr>\n",
              "      <th>2</th>\n",
              "      <td>1982</td>\n",
              "      <td>NaN</td>\n",
              "      <td>John Updike (1932–2009)</td>\n",
              "      <td>Rabbit Is Rich</td>\n",
              "      <td>Alfred A. Knopf (1981)</td>\n",
              "      <td>Novel</td>\n",
              "      <td>Pennsylvania</td>\n",
              "      <td>Robert Stone, A Flag for SunriseMarilynne Robi...</td>\n",
              "      <td>1982</td>\n",
              "    </tr>\n",
              "    <tr>\n",
              "      <th>3</th>\n",
              "      <td>1983</td>\n",
              "      <td>NaN</td>\n",
              "      <td>Alice Walker (b. 1944)</td>\n",
              "      <td>The Color Purple</td>\n",
              "      <td>Harcourt Brace Jovanovich (1982)</td>\n",
              "      <td>Epistolary novel</td>\n",
              "      <td>Georgia</td>\n",
              "      <td>Anne Tyler, Dinner at the Homesick RestaurantC...</td>\n",
              "      <td>1983</td>\n",
              "    </tr>\n",
              "    <tr>\n",
              "      <th>4</th>\n",
              "      <td>1984</td>\n",
              "      <td>NaN</td>\n",
              "      <td>William Kennedy (b. 1928)</td>\n",
              "      <td>Ironweed</td>\n",
              "      <td>Viking Press (1983)</td>\n",
              "      <td>Novel</td>\n",
              "      <td>New York</td>\n",
              "      <td>Raymond Carver, CathedralThomas Berger, The Feud</td>\n",
              "      <td>1984</td>\n",
              "    </tr>\n",
              "  </tbody>\n",
              "</table>\n",
              "</div>"
            ],
            "text/plain": [
              "   Year Winner  ...                                          Finalists Year_Copy\n",
              "0  1980    NaN  ...  William Wharton, BirdyPhilip Roth, The Ghost W...      1980\n",
              "1  1981    NaN  ...  Frederick Buechner, GodricWilliam Maxwell, So ...      1981\n",
              "2  1982    NaN  ...  Robert Stone, A Flag for SunriseMarilynne Robi...      1982\n",
              "3  1983    NaN  ...  Anne Tyler, Dinner at the Homesick RestaurantC...      1983\n",
              "4  1984    NaN  ...   Raymond Carver, CathedralThomas Berger, The Feud      1984\n",
              "\n",
              "[5 rows x 9 columns]"
            ]
          },
          "metadata": {},
          "execution_count": 26
        }
      ]
    },
    {
      "cell_type": "code",
      "metadata": {
        "id": "yGi13UFSou2X"
      },
      "source": [
        "df_winners_finalists['Birth Year'] = df_winners_finalists['Birth Year'].astype(int) # to convert the birth year to int \n",
        "df_winners_finalists['Year_Copy'] = df_winners_finalists['Year_Copy'].astype(int) # to convert the year award given  to int \n",
        "df_winners_finalists['Age Prize Received'] =  df_winners_finalists['Year_Copy'] - df_winners_finalists['Birth Year'] # calculate the age when prize was received\n",
        "bins = np.linspace(start=20, stop=100, num=17, dtype =int)\n",
        "df_winners_finalists['Year Bin'] = pd.cut(df_winners_finalists['Age Prize Received'], bins)\n",
        "del(df_winners_finalists['Year_Copy']) # removing the dummy year awrd \n",
        "df_winners_finalists['First Name'] = df_winners_finalists['Winner'].str.split(' ').str[0] # extracting the first name so that python can analyse whether M or F\n",
        "df_winners_finalists.at[1994, 'First Name'] = 'Annie' # Reviewed the data and checked only one value out of place hence manually changing it. "
      ],
      "execution_count": null,
      "outputs": []
    },
    {
      "cell_type": "code",
      "metadata": {
        "id": "4IfAaOofo2xe"
      },
      "source": [
        "def genderize(name): # creating a function genderize which makes use of package 'Genderize' which will determine the author is male or female based on their first name\n",
        "     return Genderize().get([name])[0]['gender']\n",
        "df_winners_finalists['Gender_Derived'] = df_winners_finalists.apply(lambda row : genderize(row['First Name']),axis=1).map({'male': 'M','female': 'F'})\n",
        "del(df_winners_finalists['First Name']) # removing the first name  "
      ],
      "execution_count": null,
      "outputs": []
    },
    {
      "cell_type": "markdown",
      "metadata": {
        "id": "2gf8TvE8wFN6"
      },
      "source": [
        "##### After text cleaning and  manipulation below is the code that is finally generated."
      ]
    },
    {
      "cell_type": "code",
      "metadata": {
        "colab": {
          "base_uri": "https://localhost:8080/",
          "height": 238
        },
        "id": "GVHnXvpDo5oS",
        "outputId": "f0099013-2bad-4ec7-eab2-27e18d65b9f6"
      },
      "source": [
        "df_winners_finalists.head()"
      ],
      "execution_count": null,
      "outputs": [
        {
          "output_type": "execute_result",
          "data": {
            "text/html": [
              "<div>\n",
              "<style scoped>\n",
              "    .dataframe tbody tr th:only-of-type {\n",
              "        vertical-align: middle;\n",
              "    }\n",
              "\n",
              "    .dataframe tbody tr th {\n",
              "        vertical-align: top;\n",
              "    }\n",
              "\n",
              "    .dataframe thead th {\n",
              "        text-align: right;\n",
              "    }\n",
              "</style>\n",
              "<table border=\"1\" class=\"dataframe\">\n",
              "  <thead>\n",
              "    <tr style=\"text-align: right;\">\n",
              "      <th></th>\n",
              "      <th>Winner</th>\n",
              "      <th>Work</th>\n",
              "      <th>Publisher</th>\n",
              "      <th>Genre(s)</th>\n",
              "      <th>Author's origin</th>\n",
              "      <th>Birth Year</th>\n",
              "      <th>Age Prize Received</th>\n",
              "      <th>Year Bin</th>\n",
              "      <th>Gender_Derived</th>\n",
              "    </tr>\n",
              "    <tr>\n",
              "      <th>Year</th>\n",
              "      <th></th>\n",
              "      <th></th>\n",
              "      <th></th>\n",
              "      <th></th>\n",
              "      <th></th>\n",
              "      <th></th>\n",
              "      <th></th>\n",
              "      <th></th>\n",
              "      <th></th>\n",
              "    </tr>\n",
              "  </thead>\n",
              "  <tbody>\n",
              "    <tr>\n",
              "      <th>2021</th>\n",
              "      <td>Louise Erdrich</td>\n",
              "      <td>The Night Watchman</td>\n",
              "      <td>Harpercollins</td>\n",
              "      <td>Novel</td>\n",
              "      <td>Minnesota</td>\n",
              "      <td>1954</td>\n",
              "      <td>67</td>\n",
              "      <td>(65, 70]</td>\n",
              "      <td>F</td>\n",
              "    </tr>\n",
              "    <tr>\n",
              "      <th>2020</th>\n",
              "      <td>Colson Whitehead</td>\n",
              "      <td>The Nickel Boys</td>\n",
              "      <td>Doubleday</td>\n",
              "      <td>Novel</td>\n",
              "      <td>New York</td>\n",
              "      <td>1969</td>\n",
              "      <td>51</td>\n",
              "      <td>(50, 55]</td>\n",
              "      <td>M</td>\n",
              "    </tr>\n",
              "    <tr>\n",
              "      <th>2019</th>\n",
              "      <td>Richard Powers</td>\n",
              "      <td>The Overstory</td>\n",
              "      <td>W. W. Norton &amp; Company</td>\n",
              "      <td>Novel</td>\n",
              "      <td>Illinois</td>\n",
              "      <td>1957</td>\n",
              "      <td>62</td>\n",
              "      <td>(60, 65]</td>\n",
              "      <td>M</td>\n",
              "    </tr>\n",
              "    <tr>\n",
              "      <th>2018</th>\n",
              "      <td>Andrew Sean Greer</td>\n",
              "      <td>Less</td>\n",
              "      <td>Little, Brown and Company</td>\n",
              "      <td>Satirical novel</td>\n",
              "      <td>Washington, D.C.</td>\n",
              "      <td>1970</td>\n",
              "      <td>48</td>\n",
              "      <td>(45, 50]</td>\n",
              "      <td>M</td>\n",
              "    </tr>\n",
              "    <tr>\n",
              "      <th>2017</th>\n",
              "      <td>Colson Whitehead</td>\n",
              "      <td>The Underground Railroad</td>\n",
              "      <td>Doubleday</td>\n",
              "      <td>Alternate historical novel</td>\n",
              "      <td>New York</td>\n",
              "      <td>1969</td>\n",
              "      <td>48</td>\n",
              "      <td>(45, 50]</td>\n",
              "      <td>M</td>\n",
              "    </tr>\n",
              "  </tbody>\n",
              "</table>\n",
              "</div>"
            ],
            "text/plain": [
              "                  Winner                      Work  ...  Year Bin Gender_Derived\n",
              "Year                                                ...                         \n",
              "2021     Louise Erdrich         The Night Watchman  ...  (65, 70]              F\n",
              "2020   Colson Whitehead            The Nickel Boys  ...  (50, 55]              M\n",
              "2019     Richard Powers              The Overstory  ...  (60, 65]              M\n",
              "2018  Andrew Sean Greer                       Less  ...  (45, 50]              M\n",
              "2017   Colson Whitehead   The Underground Railroad  ...  (45, 50]              M\n",
              "\n",
              "[5 rows x 9 columns]"
            ]
          },
          "metadata": {},
          "execution_count": 31
        }
      ]
    },
    {
      "cell_type": "markdown",
      "metadata": {
        "id": "4KxYsH4ZqgDJ"
      },
      "source": [
        "#### 3.1.2 Visualize and Analyze Book-author information\n",
        "After the book-author table is generated, we can visualize the attributes of this table to come up with some insight."
      ]
    },
    {
      "cell_type": "markdown",
      "metadata": {
        "id": "AXaKnuPGnqWb"
      },
      "source": [
        "### 3.2 Establishment and Processing of Words Content data\n",
        "#### 3.2.1 Collecting PDF Books\n",
        "**Steps**:\n",
        "*   Get the list of Pulitzer prize winners and nominees for the category of Fiction from the official website, https://www.pulitzer.org/prize-winners-by-category/219\n",
        "*   Depending on data availability of both winners and nominees for each year, determine the range of years for which data should be downloaded\n",
        "*   Download books from open sources for each year based on range decided, i.e., 1980-2021\n",
        "*   Bifurcate downloaded books into two categories i.e. Winners and Nominees, and store in separate folders\n",
        "*   Rename books in uniform format 'Book Name_Year_W/L' across all years and categories to identify books as per relevant information\n",
        "\n",
        "**Result of Download**: \n",
        "We eventually collected 41 books that won the award and 47 books of nominees from year 1980 to 2021.\n",
        "\n",
        "**Arrangement:**\n",
        "- The data was organized into two folders Winners and Losers \n",
        "- A standard naming convention was used to name the books . The books were named as BookName_YYYY_W/L.pdf where W is for Winners and L is for Losers.\n",
        "\n",
        "There are several challenges when collection pdf data and the risk of lacking of data was considered:\n",
        "\n",
        "- First, the information of nominees before 1980 can not be found from the official website.\n",
        "Many of the pdf sources of most recent years winners and nominees can not be access.\n",
        "\n",
        "- Many book can only be download in other format, we need to convert it to pdf.\n",
        "\n",
        "Solution: Epub format was converted to .pdf using website. Link:https://cloudconvert.com/epub-to-pdf\n",
        "\n",
        "There are quite a few books were originally written by languages other than English.\n",
        "\n",
        "Solution: We choose to download the English version of the book, which may cause some bias for the content expression.\n",
        "#### 3.2.2 Extract Words from All PDFs\n",
        "When all PDFs have been prepared, we extract all the meaningful words from PDFs using pdfplumber, nltk, os, itertools, and of course pandas.\n",
        "\n",
        "There are several steps to process to achieve the quality of content words extracted from the books.\n",
        "\n",
        "1. First, `pdfplumber()` is used to read PDFs, we loop the reading process from PDFs to pages to exact text of each page;\n",
        "2. Second, e need to use `word_tokenize()` to separate each words from texts of each page;\n",
        "3. Third, all the punctuations and stopwords such as 'the' and 'a' are removed;\n",
        "4. Finally, we apply `nltk.corpus.words.words()`, which is a text corpora, to word list to check the spell and meaningfulness of our word lists.\n",
        "\n",
        "After process word lists, we apply `nltk.pos_tag()` to categorize and tag words into different classes such as nouns, adverbs, and adjectives. Store the final result as a csv file."
      ]
    },
    {
      "cell_type": "code",
      "metadata": {
        "id": "-Ld9L2eCr1sQ"
      },
      "source": [
        "import pdfplumber # to convert from pdf to txt\n",
        "import nltk #  to understand words\n",
        "from nltk.tokenize import word_tokenize # just to get a list of words ['harry','potter',........]\n",
        "from nltk.corpus import stopwords # to remove words like 'the', 'a', 'an' ....\n",
        "import pandas as pd  # know  \n",
        "import os # package to access files in computer\n",
        "import itertools #flatten 2d list\n",
        "\n",
        "directory = '/Users/liujingru/Desktop/704/Final Project/pdf_samples/'\n",
        "df_final = pd.DataFrame(columns=['Adjective', 'Adverb', 'Noun', 'Book'])\n",
        "for pdf in os.listdir(directory):\n",
        "    if pdf.endswith(\".pdf\"):\n",
        "        #taking the file as input\n",
        "        pdf = pdfplumber.open(directory+pdf)\n",
        "        count = 0 #the starting page\n",
        "        text_temp = \"\"\n",
        "        text = \"\" #will store all the words\n",
        "        \n",
        "        #loops through all the pages in the book\n",
        "        while count < len(pdf.pages):\n",
        "            page = pdf.pages[count] #get the page content \n",
        "            text_temp = page.extract_text() #extract text from the page content\n",
        "            if(text_temp is not None): #we need this if condition to not include pages that have only images or no text\n",
        "                text += text_temp\n",
        "            count += 1 #move to next page\n",
        "        \n",
        "        tokens = word_tokenize(text)#stores each word from a sentence \n",
        "        \n",
        "        punctuations = ['(',')',';',':','[',']',',','\\'','-','.','\\\"','`','?','\\'\\'','``','’','“','!'] #we do not want punctuations so we create a list to check for them\n",
        "        \n",
        "        stop_words = stopwords.words('english') #stop words are non-essential/non-trivial words used in the english language like \"the\",\"a\" etc\n",
        "        \n",
        "        keywords = [word for word in tokens if not word in stop_words and not word in punctuations] #get words that are not stopwords or punctuations\n",
        "        \n",
        "        english_set = set(w.lower() for w in nltk.corpus.words.words())\n",
        "        keywords = [word.lower() for word in keywords]\n",
        "        keywords = [word for word in keywords if word in english_set]\n",
        "        keywords = [word.split('-|--') for word in keywords]\n",
        "        keywords = list(itertools.chain.from_iterable(keywords))\n",
        "\n",
        "        temp = nltk.pos_tag(keywords) #assigns tags to all the words we are storing in keywords\n",
        "        \n",
        "        columns = {} #dictionary to store columns {noun - [Di wang, Peiqing, Sai], Verb - [Doing project, working]}\n",
        "        adjective = []\n",
        "        adverb = []\n",
        "        noun = []\n",
        "        book = []\n",
        "        book.append(pdf)\n",
        "        print(\"Extracting all words...\")\n",
        "        #loop to go through the list temp that stores all tags along with the word\n",
        "        for word in temp:\n",
        "            if word[1] == \"JJ\":\n",
        "                adjective.append(word[0])\n",
        "            elif word[1] == \"NN\":\n",
        "                noun.append(word[0])\n",
        "            elif word[1] == \"RB\":\n",
        "                adverb.append(word[0])\n",
        "        \n",
        "        print(\"Extracted all words from\",pdf)\n",
        "        columns['adjective'] = adjective\n",
        "        columns['adverb'] = adverb\n",
        "        columns['noun'] = noun\n",
        "        #get max length of column to have columns of same length\n",
        "        length = max(len(adjective),len(adverb),len(noun))\n",
        "        book = [item for item in book for i in range(length)]\n",
        "        columns['Book'] = book\n",
        "        \n",
        "        #converting to csv\n",
        "        data = list(itertools.zip_longest(columns['adjective'],columns['adverb'],columns['noun'],columns['Book']))\n",
        "        #data = list(zip(columns['adjective'],columns['adverb'],columns['noun']))\n",
        "        df = pd.DataFrame(data = data, columns = ['Adjective','Adverb','Noun','Book'])\n",
        "        #Fill blank cells of to each book's words table with NaN.\n",
        "        df.head()\n",
        "        #Accumulate dataframes of reach book words table\n",
        "        df_final = df_final.append(df)\n",
        "    else:\n",
        "        continue\n",
        "        \n",
        "df.to_csv('/Users/liujingru/Desktop/704/Final Project/data_sample.csv',index=False,header=True)"
      ],
      "execution_count": null,
      "outputs": []
    },
    {
      "cell_type": "markdown",
      "metadata": {
        "id": "0A4lNGoYm9QF"
      },
      "source": [
        "\n",
        "## 4. Data Analysis\n",
        "### 4.1 Analysis for Book-author Table"
      ]
    },
    {
      "cell_type": "code",
      "metadata": {
        "colab": {
          "base_uri": "https://localhost:8080/",
          "height": 473
        },
        "id": "uSASIsmmqAjV",
        "outputId": "435d1387-f015-4aff-bc6b-be116cea29f2"
      },
      "source": [
        "# Determine if there any particular Publishers that are associated more frequently with winners\n",
        "dfPublisherCount = df_winners_finalists.groupby(['Publisher']).size().sort_values(ascending = True).to_frame('Count')\n",
        "# filter out only top 5 Publishers\n",
        "dftopPublishers = dfPublisherCount.tail()\n",
        "# Chart to bifurcate winners based on Publishers\n",
        "axis =  dftopPublishers.plot.barh(fontsize=16, figsize = (10,7),grid=True, color='#000080')\n",
        "plt.title('Number of Winners by Publisher', fontsize=20 , color ='#B9A962')\n",
        "plt.ylabel('Publisher', fontsize=16)\n",
        "plt.xlabel('Number of Winners', fontsize=16)\n",
        "plt.show()"
      ],
      "execution_count": null,
      "outputs": [
        {
          "output_type": "display_data",
          "data": {
            "image/png": "[encoded data removed]",
            "text/plain": [
              "<Figure size 720x504 with 1 Axes>"
            ]
          },
          "metadata": {
            "needs_background": "light"
          }
        }
      ]
    },
    {
      "cell_type": "markdown",
      "metadata": {
        "id": "uvR8fscfqFYb"
      },
      "source": [
        "#### **Popular Publishers：**\n",
        "\n",
        "The Publisher 'Alfred A. Knopf' has a staggeringly high number of winners associated with it, i.e. 10 books, in the last 30 years alone. This number is twice that of the runner up, 'Random House'. \n",
        "<br>\n",
        "An interesting fact to be noted here is that 'Random House' is the parent company of 'Alfred A. Knopf' since 1960. Together, these two publishers make up 50% Publishers that published the books of Nobel Prize winners in the last 30 years."
      ]
    },
    {
      "cell_type": "markdown",
      "metadata": {
        "id": "JsLwZKKVqU8L"
      },
      "source": [
        "### 4.2 Analysis from Content Word Table\n",
        "#### 4.2.1 Analysis of Word Amount\n",
        "Explanatory analysis on number of meaningful words from winner and losers have been visualized by count mean, median for both winners and losers and compare the differences."
      ]
    },
    {
      "cell_type": "code",
      "metadata": {
        "colab": {
          "base_uri": "https://localhost:8080/"
        },
        "id": "ZqSb9eciQlCL",
        "outputId": "e9f2e3bf-3152-4b1f-acf2-8e2038277773"
      },
      "source": [
        "!apt-get install -y -qq software-properties-common python-software-properties module-init-tools\n",
        "!add-apt-repository -y ppa:alessandro-strada/ppa 2>&1 > /dev/null\n",
        "!apt-get update -qq 2>&1 > /dev/null\n",
        "!apt-get -y install -qq google-drive-ocamlfuse fuse\n",
        "from google.colab import auth\n",
        "auth.authenticate_user()\n",
        "from oauth2client.client import GoogleCredentials\n",
        "creds = GoogleCredentials.get_application_default()\n",
        "import getpass\n",
        "!google-drive-ocamlfuse -headless -id={creds.client_id} -secret={creds.client_secret} < /dev/null 2>&1 | grep URL\n",
        "vcode = getpass.getpass()\n",
        "!echo {vcode} | google-drive-ocamlfuse -headless -id={creds.client_id} -secret={creds.client_secret}"
      ],
      "execution_count": null,
      "outputs": [
        {
          "output_type": "stream",
          "name": "stdout",
          "text": [
            "E: Package 'python-software-properties' has no installation candidate\n",
            "Selecting previously unselected package google-drive-ocamlfuse.\n",
            "(Reading database ... 155222 files and directories currently installed.)\n",
            "Preparing to unpack .../google-drive-ocamlfuse_0.7.27-0ubuntu1~ubuntu18.04.1_amd64.deb ...\n",
            "Unpacking google-drive-ocamlfuse (0.7.27-0ubuntu1~ubuntu18.04.1) ...\n",
            "Setting up google-drive-ocamlfuse (0.7.27-0ubuntu1~ubuntu18.04.1) ...\n",
            "Processing triggers for man-db (2.8.3-2ubuntu0.1) ...\n",
            "Please, open the following URL in a web browser: https://accounts.google.com/o/oauth2/auth?client_id=32555940559.apps.googleusercontent.com&redirect_uri=urn%3Aietf%3Awg%3Aoauth%3A2.0%3Aoob&scope=https%3A%2F%2Fwww.googleapis.com%2Fauth%2Fdrive&response_type=code&access_type=offline&approval_prompt=force\n",
            "··········\n",
            "Please, open the following URL in a web browser: https://accounts.google.com/o/oauth2/auth?client_id=32555940559.apps.googleusercontent.com&redirect_uri=urn%3Aietf%3Awg%3Aoauth%3A2.0%3Aoob&scope=https%3A%2F%2Fwww.googleapis.com%2Fauth%2Fdrive&response_type=code&access_type=offline&approval_prompt=force\n",
            "Please enter the verification code: Access token retrieved correctly.\n"
          ]
        }
      ]
    },
    {
      "cell_type": "code",
      "metadata": {
        "id": "5e2ngt1zQ1pM"
      },
      "source": [
        "!mkdir -p drive\n",
        "!google-drive-ocamlfuse drive # 此时colab中出现drive的文件夹，里面就是你的google drive的根目录文件\n"
      ],
      "execution_count": null,
      "outputs": []
    },
    {
      "cell_type": "code",
      "metadata": {
        "id": "jGoRvO1cQ-mA",
        "colab": {
          "base_uri": "https://localhost:8080/",
          "height": 181
        },
        "outputId": "15586ffe-cf12-4a18-d345-589cacd6556b"
      },
      "source": [
        "import os\n",
        "os.chdir(\"drive/704_TA/PDF/Winners/\") "
      ],
      "execution_count": null,
      "outputs": [
        {
          "output_type": "error",
          "ename": "FileNotFoundError",
          "evalue": "ignored",
          "traceback": [
            "\u001b[0;31m---------------------------------------------------------------------------\u001b[0m",
            "\u001b[0;31mFileNotFoundError\u001b[0m                         Traceback (most recent call last)",
            "\u001b[0;32m<ipython-input-9-b51991e2cff6>\u001b[0m in \u001b[0;36m<module>\u001b[0;34m()\u001b[0m\n\u001b[1;32m      1\u001b[0m \u001b[0;32mimport\u001b[0m \u001b[0mos\u001b[0m\u001b[0;34m\u001b[0m\u001b[0;34m\u001b[0m\u001b[0m\n\u001b[0;32m----> 2\u001b[0;31m \u001b[0mos\u001b[0m\u001b[0;34m.\u001b[0m\u001b[0mchdir\u001b[0m\u001b[0;34m(\u001b[0m\u001b[0;34m\"drive/704_TA/PDF/Winners/\"\u001b[0m\u001b[0;34m)\u001b[0m\u001b[0;34m\u001b[0m\u001b[0;34m\u001b[0m\u001b[0m\n\u001b[0m",
            "\u001b[0;31mFileNotFoundError\u001b[0m: [Errno 2] No such file or directory: 'drive/704_TA/PDF/Winners/'"
          ]
        }
      ]
    },
    {
      "cell_type": "code",
      "metadata": {
        "colab": {
          "base_uri": "https://localhost:8080/"
        },
        "id": "HsE71wLpPSnB",
        "outputId": "57da2fe7-2e16-4fc8-a9e9-1eeccf3b2987"
      },
      "source": [
        "import numpy as np\n",
        "import pandas as pd\n",
        "import seaborn as sns\n",
        "import matplotlib.pyplot as plt\n",
        "import plotly.graph_objects as go\n",
        "\n",
        "path = ''\n",
        "df_w_original = pd.read_csv (path + 'Winners.csv')\n",
        "\n",
        "#As there are np.nan in the table, replace nan into 0 and other word into 1\n",
        "df_w=df_w_original.replace(np.nan,int(0))\n",
        "df_w.loc[df_w.Adjective!=int(0),'Adjective']=int(1)\n",
        "df_w.loc[df_w.Adverb!=int(0),'Adverb']=int(1)\n",
        "df_w.loc[df_w.Noun!=int(0),'Noun']=int(1)\n",
        "\n",
        "grouped=df_w.groupby(['Book']) #Group the data by Book title\n",
        "Adjective_w=grouped['Adjective'].sum() #Calculate the Adjective of each book\n",
        "print(f'The mean number of adjectives from winner books is {Adjective_w.mean():.0f}.')\n",
        "print(f'The median number of adjectives from winner books is {Adjective_w.median():.0f}.')\n",
        "\n",
        "grouped=df_w.groupby(['Book'])\n",
        "Adverb_w=grouped['Adverb'].sum() #Calculate the Adverb of each book\n",
        "print(f'The mean number of adverb from winner books is {Adverb_w.mean():.0f}.')\n",
        "print(f'The median number of adverb from winner books is {Adverb_w.median():.0f}.')\n",
        "\n",
        "grouped=df_w.groupby(['Book'])\n",
        "Noun_w=grouped['Noun'].sum() #Calculate the Adjective of each book\n",
        "print(f'The mean number of noun from winner books is {Noun_w.mean():.0f}.')\n",
        "print(f'The median number of noun from winner books is {Noun_w.median():.0f}.')"
      ],
      "execution_count": null,
      "outputs": [
        {
          "output_type": "stream",
          "name": "stdout",
          "text": [
            "The mean number of adjectives from winner books is 8673.\n",
            "The median number of adjectives from winner books is 7758.\n",
            "The mean number of adverb from winner books is 4243.\n",
            "The median number of adverb from winner books is 3558.\n",
            "The mean number of noun from winner books is 18234.\n",
            "The median number of noun from winner books is 16072.\n"
          ]
        }
      ]
    },
    {
      "cell_type": "code",
      "metadata": {
        "colab": {
          "base_uri": "https://localhost:8080/"
        },
        "id": "p6JfU2eaTAok",
        "outputId": "f3afc182-2350-43e9-e2d4-0823166ac5f9"
      },
      "source": [
        "path = ''\n",
        "df_l_original = pd.read_csv (path + 'Losers.csv')\n",
        "\n",
        "#As there are np.nan in the table, replace nan into 0 and other word into 1\n",
        "df_l=df_l_original.replace(np.nan,int(0))\n",
        "df_l.loc[df_l.Adjective!=int(0),'Adjective']=int(1)\n",
        "df_l.loc[df_l.Adverb!=int(0),'Adverb']=int(1)\n",
        "df_l.loc[df_l.Noun!=int(0),'Noun']=int(1)\n",
        "\n",
        "grouped=df_l.groupby(['Book']) #Group the data by Book title\n",
        "Adjective_l=grouped['Adjective'].sum() #Calculate the Adjective of each book\n",
        "print(f'The mean number of adjectives is {Adjective_l.mean():.0f}.')\n",
        "print(f'The median number of adjectives is {Adjective_l.median():.0f}.')\n",
        "\n",
        "grouped=df_l.groupby(['Book'])\n",
        "Adverb_l=grouped['Adverb'].sum() #Calculate the Adverb of each book\n",
        "print(f'The mean number of adverb is {Adverb_l.mean():.0f}.')\n",
        "print(f'The median number of adverb is {Adverb_l.median():.0f}.')\n",
        "\n",
        "grouped=df_l.groupby(['Book'])\n",
        "Noun_l=grouped['Noun'].sum() #Calculate the Adjective of each book\n",
        "print(f'The mean number of noun is {Noun_l.mean():.0f}.')\n",
        "print(f'The median number of noun is {Noun_l.median():.0f}.')"
      ],
      "execution_count": null,
      "outputs": [
        {
          "output_type": "stream",
          "name": "stderr",
          "text": [
            "/usr/local/lib/python3.7/dist-packages/IPython/core/interactiveshell.py:2718: DtypeWarning:\n",
            "\n",
            "Columns (0,1) have mixed types.Specify dtype option on import or set low_memory=False.\n",
            "\n"
          ]
        },
        {
          "output_type": "stream",
          "name": "stdout",
          "text": [
            "The mean number of adjectives is 7760.\n",
            "The median number of adjectives is 7027.\n",
            "The mean number of adverb is 3778.\n",
            "The median number of adverb is 3513.\n",
            "The mean number of noun is 16738.\n",
            "The median number of noun is 15534.\n"
          ]
        }
      ]
    },
    {
      "cell_type": "code",
      "metadata": {
        "colab": {
          "base_uri": "https://localhost:8080/",
          "height": 238
        },
        "id": "kJwBJWt6PobI",
        "outputId": "f7c5f65f-1a89-42bb-c27d-e1985729f022"
      },
      "source": [
        "#Gather the data into chart table\n",
        "data={'Type':['Winner','Winner','Winner','Loser','Loser','Loser'],\n",
        "      'Word':['Adjective','Adverb','Noun','Adjective','Adverb','Noun'],\n",
        "      'Number':[(Adjective_w.mean()),(Adverb_w.mean()),(Noun_w.mean()),(Adjective_l.mean()),(Adverb_l.mean()),(Noun_l.mean())]\n",
        "     }\n",
        "df_chart_mean=pd.DataFrame(data)\n",
        "df_chart_mean"
      ],
      "execution_count": null,
      "outputs": [
        {
          "output_type": "execute_result",
          "data": {
            "text/html": [
              "<div>\n",
              "<style scoped>\n",
              "    .dataframe tbody tr th:only-of-type {\n",
              "        vertical-align: middle;\n",
              "    }\n",
              "\n",
              "    .dataframe tbody tr th {\n",
              "        vertical-align: top;\n",
              "    }\n",
              "\n",
              "    .dataframe thead th {\n",
              "        text-align: right;\n",
              "    }\n",
              "</style>\n",
              "<table border=\"1\" class=\"dataframe\">\n",
              "  <thead>\n",
              "    <tr style=\"text-align: right;\">\n",
              "      <th></th>\n",
              "      <th>Type</th>\n",
              "      <th>Word</th>\n",
              "      <th>Number</th>\n",
              "    </tr>\n",
              "  </thead>\n",
              "  <tbody>\n",
              "    <tr>\n",
              "      <th>0</th>\n",
              "      <td>Winner</td>\n",
              "      <td>Adjective</td>\n",
              "      <td>8673.116279</td>\n",
              "    </tr>\n",
              "    <tr>\n",
              "      <th>1</th>\n",
              "      <td>Winner</td>\n",
              "      <td>Adverb</td>\n",
              "      <td>4243.372093</td>\n",
              "    </tr>\n",
              "    <tr>\n",
              "      <th>2</th>\n",
              "      <td>Winner</td>\n",
              "      <td>Noun</td>\n",
              "      <td>18233.767442</td>\n",
              "    </tr>\n",
              "    <tr>\n",
              "      <th>3</th>\n",
              "      <td>Loser</td>\n",
              "      <td>Adjective</td>\n",
              "      <td>7759.638298</td>\n",
              "    </tr>\n",
              "    <tr>\n",
              "      <th>4</th>\n",
              "      <td>Loser</td>\n",
              "      <td>Adverb</td>\n",
              "      <td>3778.276596</td>\n",
              "    </tr>\n",
              "    <tr>\n",
              "      <th>5</th>\n",
              "      <td>Loser</td>\n",
              "      <td>Noun</td>\n",
              "      <td>16737.659574</td>\n",
              "    </tr>\n",
              "  </tbody>\n",
              "</table>\n",
              "</div>"
            ],
            "text/plain": [
              "     Type       Word        Number\n",
              "0  Winner  Adjective   8673.116279\n",
              "1  Winner     Adverb   4243.372093\n",
              "2  Winner       Noun  18233.767442\n",
              "3   Loser  Adjective   7759.638298\n",
              "4   Loser     Adverb   3778.276596\n",
              "5   Loser       Noun  16737.659574"
            ]
          },
          "metadata": {},
          "execution_count": 52
        }
      ]
    },
    {
      "cell_type": "code",
      "metadata": {
        "colab": {
          "base_uri": "https://localhost:8080/",
          "height": 314
        },
        "id": "1j6x587yZILZ",
        "outputId": "9e3cd879-4165-4c14-9af8-cd2ec729cbfd"
      },
      "source": [
        "axis = sns.barplot(x=df_chart_mean.Word, y=df_chart_mean.Number, hue=df_chart_mean.Type, palette=['#B9A962', '#000080'])\n",
        "axis.set_title('Word Type by W/L(mean)', fontdict={'fontsize': 20, 'fontweight': 700, 'color': 'maroon'}, pad=20)\n",
        "axis.set_ylim([0,20000])\n",
        "\n",
        "for p in axis.patches:\n",
        "    height = p.get_height()\n",
        "    axis.annotate(f'{height:.0f}',xy=(p.get_x() + p.get_width() / 2, height), ha='center', va='bottom')"
      ],
      "execution_count": null,
      "outputs": [
        {
          "output_type": "display_data",
          "data": {
            "image/png": "[encoded data removed]",
            "text/plain": [
              "<Figure size 432x288 with 1 Axes>"
            ]
          },
          "metadata": {
            "needs_background": "light"
          }
        }
      ]
    },
    {
      "cell_type": "markdown",
      "metadata": {
        "id": "7yjB_FgYvJAf"
      },
      "source": [
        "According to the result of mean and median counts for winner books and loser books, it's obvious that no matter on mean or median, noun, adjective, or adverb, winner books are having a larger amount of meaningful words than loser books. This indicates that the winner books usually have a larger volume and are likely to contain more colorful vocabulary.\n",
        "#### 4.2.2 Word Length Analysis\n",
        "\n"
      ]
    },
    {
      "cell_type": "markdown",
      "metadata": {
        "id": "DnQcxoP8x8GH"
      },
      "source": [
        "## 5. Conclusions\n",
        "### Is Age a factor?\n",
        "As can be seen from the chart above, a lot of authors tend to win between the Age 45-50, followed by 50-55. This could be on account of the fact that this may be the age around which an author's writing style improves substantially or matures in a way that helps them deliver their best works.\n",
        "\n",
        "It is also interesting to observe that the data is normally distributed, with the mode centered around 45-50.\n",
        "\n",
        "authors need more adverbs, nouns, adjectives to win \n",
        "\n",
        "publisher\n",
        "\n",
        "writing style - revolve stories around central characters + varied sentence structure - incorporate words of varied lengths\n",
        "from the table - \n",
        "\n",
        "women less likely\n",
        " \n",
        " \n",
        "age group\n"
      ]
    },
    {
      "cell_type": "markdown",
      "metadata": {
        "id": "w1evqacM2pkV"
      },
      "source": [
        "## Reference:\n",
        "\n",
        "[1]A single-page tutorial - information retrieval and text mining. Tf. (n.d.), http://www.tfidf.com/. \n",
        "\n",
        "[2]The Pulitzer Prize - Fiction. The Pulitzer Prizes, https://www.pulitzer.org/prize-winners-by-category/219. \n",
        "\n",
        "[3]Accessing Text Corpora and Lexical Resources, https://www.nltk.org/book/ch02.html. \n",
        "\n",
        "[4]Categorizing and Tagging Words, https://www.nltk.org/book/ch05.html. \n",
        "\n",
        "[5] “Genderize” PyPI, https://pypi.org/project/Genderize/. \n",
        "https://pypi.org/project/Genderize/\n",
        "\n",
        "[6] “Matplotlib 3.5.0 Documentation” Matplotlib Documentation - Matplotlib 3.5.0 Documentation, https://matplotlib.org/stable/. \n",
        "\n",
        "## Appendex：\n",
        "- The pdfs are stored in https://drive.google.com/drive/folders/1Drbg3kttuwYFheGZjxwP23455XkSz4Lh?usp=sharing \n",
        "- The sample result of Content table stored in https://drive.google.com/drive/folders/14ky_IGy2cZrkt8PGZ_wog8jKius-TAry?usp=sharing\n"
      ]
    },
    {
      "cell_type": "code",
      "metadata": {
        "id": "pEDL3L8yWqRS"
      },
      "source": [
        ""
      ],
      "execution_count": null,
      "outputs": []
    }
  ]
}